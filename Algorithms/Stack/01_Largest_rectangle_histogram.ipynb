{
 "cells": [
  {
   "cell_type": "code",
   "execution_count": 24,
   "metadata": {},
   "outputs": [],
   "source": [
    "def largestRectangleArea(heights):\n",
    "    maxArea = 0\n",
    "    stack = []\n",
    "    \n",
    "    for i, h in enumerate(heights):\n",
    "        start = i \n",
    "        while stack and stack[-1][1] > h: \n",
    "            print(stack)\n",
    "            index, height = stack.pop()\n",
    "            maxArea = max(maxArea, height * (i - index))\n",
    "            start = index\n",
    "        stack.append((start, h))\n",
    "    print(stack)   \n",
    "    for i, h in stack: \n",
    "        maxArea = max(maxArea, h * (len(heights) - i))\n",
    "        \n",
    "    return maxArea"
   ]
  },
  {
   "cell_type": "code",
   "execution_count": 25,
   "metadata": {},
   "outputs": [
    {
     "name": "stdout",
     "output_type": "stream",
     "text": [
      "[(0, 2)]\n",
      "[(0, 1), (2, 5), (3, 6)]\n",
      "[(0, 1), (2, 5)]\n",
      "[(0, 1), (2, 2), (5, 3)]\n"
     ]
    },
    {
     "data": {
      "text/plain": [
       "10"
      ]
     },
     "execution_count": 25,
     "metadata": {},
     "output_type": "execute_result"
    }
   ],
   "source": [
    "heights = [2, 1, 5, 6, 2, 3]\n",
    "len(heights)\n",
    "largestRectangleArea(heights)"
   ]
  },
  {
   "cell_type": "code",
   "execution_count": 11,
   "metadata": {},
   "outputs": [
    {
     "name": "stdout",
     "output_type": "stream",
     "text": [
      "i : 0\n",
      "h : 2\n",
      "\n",
      "i : 1\n",
      "h : 1\n",
      "\n",
      "i : 2\n",
      "h : 5\n",
      "\n",
      "i : 3\n",
      "h : 6\n",
      "\n",
      "i : 4\n",
      "h : 2\n",
      "\n",
      "i : 5\n",
      "h : 3\n",
      "\n"
     ]
    }
   ],
   "source": [
    "for i, h in enumerate(heights):\n",
    "    print(f\"i : {i}\\nh : {h}\")\n",
    "    print()"
   ]
  },
  {
   "cell_type": "code",
   "execution_count": 19,
   "metadata": {},
   "outputs": [
    {
     "data": {
      "text/plain": [
       "2"
      ]
     },
     "execution_count": 19,
     "metadata": {},
     "output_type": "execute_result"
    }
   ],
   "source": [
    "stack = [(0, 2)]\n",
    "stack[-1][1]"
   ]
  },
  {
   "cell_type": "code",
   "execution_count": 22,
   "metadata": {},
   "outputs": [
    {
     "name": "stdout",
     "output_type": "stream",
     "text": [
      "0 1\n",
      "2 5\n"
     ]
    }
   ],
   "source": [
    "s = [(0, 1), (2, 5)]\n",
    "for i, h in s:\n",
    "    print(i,h)"
   ]
  },
  {
   "cell_type": "code",
   "execution_count": 23,
   "metadata": {},
   "outputs": [
    {
     "data": {
      "text/plain": [
       "20"
      ]
     },
     "execution_count": 23,
     "metadata": {},
     "output_type": "execute_result"
    }
   ],
   "source": [
    "# maxArea = max(maxArea, h * (len(heights) - i))\n",
    "m = max(6, 5*(6-2))\n",
    "m"
   ]
  },
  {
   "cell_type": "code",
   "execution_count": null,
   "metadata": {},
   "outputs": [],
   "source": []
  }
 ],
 "metadata": {
  "kernelspec": {
   "display_name": "Python 3",
   "language": "python",
   "name": "python3"
  },
  "language_info": {
   "codemirror_mode": {
    "name": "ipython",
    "version": 3
   },
   "file_extension": ".py",
   "mimetype": "text/x-python",
   "name": "python",
   "nbconvert_exporter": "python",
   "pygments_lexer": "ipython3",
   "version": "3.8.5"
  }
 },
 "nbformat": 4,
 "nbformat_minor": 4
}

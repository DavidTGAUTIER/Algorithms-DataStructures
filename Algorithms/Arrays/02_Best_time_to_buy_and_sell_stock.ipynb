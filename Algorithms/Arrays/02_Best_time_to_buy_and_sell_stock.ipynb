{
 "cells": [
  {
   "cell_type": "markdown",
   "id": "8930dac0",
   "metadata": {},
   "source": [
    "### Brute Force"
   ]
  },
  {
   "cell_type": "code",
   "execution_count": 5,
   "id": "e49810de",
   "metadata": {},
   "outputs": [],
   "source": [
    "def maxProfit(prices):\n",
    "    if len(prices) <= 1:\n",
    "        return False\n",
    "    \n",
    "    max_profit = 0\n",
    "    \n",
    "    for i in range(len(prices) - 1):\n",
    "        for j in range(1, len(prices)):\n",
    "            if prices[j] - prices[i] > max_profit:\n",
    "                max_profit = prices[j] - prices[i]\n",
    "                \n",
    "    return max_profit      "
   ]
  },
  {
   "cell_type": "code",
   "execution_count": 6,
   "id": "abaa797c",
   "metadata": {},
   "outputs": [
    {
     "data": {
      "text/plain": [
       "5"
      ]
     },
     "execution_count": 6,
     "metadata": {},
     "output_type": "execute_result"
    }
   ],
   "source": [
    "prices = [3,4,1,6]\n",
    "maxProfit(prices)"
   ]
  },
  {
   "cell_type": "markdown",
   "id": "9b0eb75f",
   "metadata": {},
   "source": [
    "### Optimization"
   ]
  },
  {
   "cell_type": "code",
   "execution_count": 7,
   "id": "8be36f7a",
   "metadata": {},
   "outputs": [],
   "source": [
    "def maxProfit(prices):\n",
    "    \n",
    "    if len(prices) <= 1:\n",
    "        return False\n",
    "\n",
    "    max_profit = 0\n",
    "    min_price = prices[0]\n",
    "    \n",
    "    for price in prices:\n",
    "        min_price = min(min_price, price) \n",
    "        compare_profit = price - min_price\n",
    "        max_profit = max(max_profit, compare_profit)\n",
    "        \n",
    "    return max_profit"
   ]
  },
  {
   "cell_type": "code",
   "execution_count": 8,
   "id": "9feacda5",
   "metadata": {},
   "outputs": [
    {
     "data": {
      "text/plain": [
       "5"
      ]
     },
     "execution_count": 8,
     "metadata": {},
     "output_type": "execute_result"
    }
   ],
   "source": [
    "prices = [3,4,1,6]\n",
    "maxProfit(prices)"
   ]
  },
  {
   "cell_type": "code",
   "execution_count": 3,
   "id": "b61c88ca",
   "metadata": {},
   "outputs": [],
   "source": [
    "def maxProfit(prices):\n",
    "    left = 0   # Buy stock\n",
    "    right = 1  # Sell stock\n",
    "    max_profit = 0\n",
    "    \n",
    "    while right < len(prices):\n",
    "        currentProfit = prices[right] - prices[left]\n",
    "        if prices[left] < prices[right]:\n",
    "            max_profit =max(currentProfit,max_profit)   \n",
    "        else:\n",
    "            left = right\n",
    "        right += 1\n",
    "        \n",
    "    return max_profit"
   ]
  },
  {
   "cell_type": "code",
   "execution_count": 4,
   "id": "1079c68c",
   "metadata": {},
   "outputs": [
    {
     "data": {
      "text/plain": [
       "5"
      ]
     },
     "execution_count": 4,
     "metadata": {},
     "output_type": "execute_result"
    }
   ],
   "source": [
    "prices = [3,4,1,6]\n",
    "maxProfit(prices)"
   ]
  },
  {
   "cell_type": "code",
   "execution_count": null,
   "id": "545e7ddb",
   "metadata": {},
   "outputs": [],
   "source": []
  }
 ],
 "metadata": {
  "kernelspec": {
   "display_name": "Python 3 (ipykernel)",
   "language": "python",
   "name": "python3"
  },
  "language_info": {
   "codemirror_mode": {
    "name": "ipython",
    "version": 3
   },
   "file_extension": ".py",
   "mimetype": "text/x-python",
   "name": "python",
   "nbconvert_exporter": "python",
   "pygments_lexer": "ipython3",
   "version": "3.8.13"
  }
 },
 "nbformat": 4,
 "nbformat_minor": 5
}

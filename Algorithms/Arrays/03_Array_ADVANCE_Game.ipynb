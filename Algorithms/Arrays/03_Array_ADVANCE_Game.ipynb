{
 "cells": [
  {
   "cell_type": "code",
   "execution_count": 4,
   "metadata": {},
   "outputs": [],
   "source": [
    "# 1 - Iterer a travers chaque entree du l'array\n",
    "\n",
    "# 2 - Parcours l'entree \"A[i] + i\" la plus eloignée que l'on peut atteindre\n",
    "\n",
    "# 3 - Si pour un certain 'i' avant la fin, l'entrée \"A[i] + i\" est la plus éloignée que l'on peut atteindre, \n",
    "#     On ne peut pas atteindre le dernier index.\n",
    "#     Sinon, la fin est atteinte\n",
    "\n",
    "# 'i' : index traité\n",
    "# 'A[i] + i' : l'eloignement le plus loin possible que l'on peut atteindre en partant de i"
   ]
  },
  {
   "cell_type": "code",
   "execution_count": 1,
   "metadata": {},
   "outputs": [],
   "source": [
    "def array_advance(A):\n",
    "    \n",
    "    furthest_reached = 0\n",
    "    last_idx = len(A) - 1\n",
    "    i = 0\n",
    "    while i <= furthest_reached and furthest_reached < last_idx:\n",
    "        furthest_reached = max(furthest_reached, A[i] + i)\n",
    "        i += 1\n",
    "    return furthest_reached >= last_idx"
   ]
  },
  {
   "cell_type": "code",
   "execution_count": 2,
   "metadata": {},
   "outputs": [
    {
     "data": {
      "text/plain": [
       "True"
      ]
     },
     "execution_count": 2,
     "metadata": {},
     "output_type": "execute_result"
    }
   ],
   "source": [
    "A = [3, 3, 1, 0, 2, 0, 1]\n",
    "array_advance(A)"
   ]
  },
  {
   "cell_type": "code",
   "execution_count": 3,
   "metadata": {},
   "outputs": [
    {
     "data": {
      "text/plain": [
       "False"
      ]
     },
     "execution_count": 3,
     "metadata": {},
     "output_type": "execute_result"
    }
   ],
   "source": [
    "B = [3, 2, 0, 0, 2, 0, 1]\n",
    "array_advance(B)"
   ]
  },
  {
   "cell_type": "code",
   "execution_count": 5,
   "metadata": {},
   "outputs": [
    {
     "data": {
      "text/plain": [
       "'\\n\\nFOR A ARRAY :\\nA = [3, 3, 1, 0, 2, 0, 1]\\n\\n\\nf = 0\\nl_idx = 6\\ni = 0\\n\\nwhile 0 <= 0 and 0 < 6:\\n    f = max(0, A[0] + 0 = 3) \\n    f = 3\\n    i += 1\\n    \\nwhile 1 <= 3 and 3 < 6:\\n    f = max(3, A[1] + 1 = 4)\\n    f = 4\\n    i += 1\\n    \\nwhile 2 <= 4 and 4 < 6:\\n    f = max(4, A[2] + 2 = 3)\\n    f = 4\\n    i += 1\\n    \\nwhile 3 <= 4 and 4 < 6:\\n    f = max(4, A[3] + 3 = 3)\\n    f = 4\\n    i += 1\\n    \\nwhile 4 <= 4 and 4 < 6:\\n    f = max(4, A[4] + 4 = 6)\\n    f = 6\\n    i += 1\\n    \\nwhile 5 <= 6 and 6 < 6: FALSE !\\n\\nreturn f >= l : TRUE\\n'"
      ]
     },
     "execution_count": 5,
     "metadata": {},
     "output_type": "execute_result"
    }
   ],
   "source": [
    "'''\n",
    "\n",
    "FOR A ARRAY :\n",
    "A = [3, 3, 1, 0, 2, 0, 1]\n",
    "\n",
    "\n",
    "f = 0\n",
    "l_idx = 6\n",
    "i = 0\n",
    "\n",
    "while 0 <= 0 and 0 < 6:\n",
    "    f = max(0, A[0] + 0 = 3) \n",
    "    f = 3\n",
    "    i += 1\n",
    "    \n",
    "while 1 <= 3 and 3 < 6:\n",
    "    f = max(3, A[1] + 1 = 4)\n",
    "    f = 4\n",
    "    i += 1\n",
    "    \n",
    "while 2 <= 4 and 4 < 6:\n",
    "    f = max(4, A[2] + 2 = 3)\n",
    "    f = 4\n",
    "    i += 1\n",
    "    \n",
    "while 3 <= 4 and 4 < 6:\n",
    "    f = max(4, A[3] + 3 = 3)\n",
    "    f = 4\n",
    "    i += 1\n",
    "    \n",
    "while 4 <= 4 and 4 < 6:\n",
    "    f = max(4, A[4] + 4 = 6)\n",
    "    f = 6\n",
    "    i += 1\n",
    "    \n",
    "while 5 <= 6 and 6 < 6: FALSE !\n",
    "\n",
    "return f >= l : TRUE\n",
    "'''\n",
    "     "
   ]
  },
  {
   "cell_type": "code",
   "execution_count": null,
   "metadata": {},
   "outputs": [],
   "source": [
    "'''\n",
    "\n",
    "FOR B ARRAY :\n",
    "A = [3, 2, 0, 0, 2, 0, 1]\n",
    "\n",
    "\n",
    "f = 0\n",
    "l_idx = 6\n",
    "i = 0\n",
    "\n",
    "while 0 <= 0 and 0 < 6:\n",
    "    f = max(0, A[0] + 0 = 3) \n",
    "    f = 3\n",
    "    i += 1\n",
    "    \n",
    "while 1 <= 3 and 3 < 6:\n",
    "    f = max(3, A[1] + 1 = 3)\n",
    "    f = 3\n",
    "    i += 1\n",
    "    \n",
    "while 2 <= 3 and 3 < 6:\n",
    "    f = max(3, A[2] + 2 = 2)\n",
    "    f = 3\n",
    "    i += 1\n",
    "    \n",
    "while 3 <= 3 and 3 < 6:\n",
    "    f = max(3, A[3] + 3 = 3)\n",
    "    f = 3\n",
    "    i += 1\n",
    "    \n",
    "while 4 <= 3 and 3 < 6: FALSE\n",
    "\n",
    "return f >= l : FALSE\n",
    "'''\n",
    "     "
   ]
  },
  {
   "cell_type": "code",
   "execution_count": 16,
   "metadata": {},
   "outputs": [],
   "source": [
    "def canJump(nums):\n",
    "    n = len(nums) - 1\n",
    "    for i in range(n-1,-1,-1):\n",
    "         if nums[i] + i >= n:\n",
    "            print(i, n)\n",
    "            n = i\n",
    "            print(i, n)\n",
    "    return n == 0"
   ]
  },
  {
   "cell_type": "code",
   "execution_count": 15,
   "metadata": {},
   "outputs": [
    {
     "name": "stdout",
     "output_type": "stream",
     "text": [
      "5\n",
      "4\n",
      "3\n",
      "2\n",
      "1\n",
      "0\n"
     ]
    }
   ],
   "source": [
    "n = 6\n",
    "for i in range(n-1,-1,-1):\n",
    "    print(i)"
   ]
  },
  {
   "cell_type": "code",
   "execution_count": 17,
   "metadata": {},
   "outputs": [
    {
     "name": "stdout",
     "output_type": "stream",
     "text": [
      "4 6\n",
      "4 4\n",
      "1 4\n",
      "1 1\n",
      "0 1\n",
      "0 0\n"
     ]
    },
    {
     "data": {
      "text/plain": [
       "True"
      ]
     },
     "execution_count": 17,
     "metadata": {},
     "output_type": "execute_result"
    }
   ],
   "source": [
    "canJump(A)"
   ]
  },
  {
   "cell_type": "code",
   "execution_count": 12,
   "metadata": {},
   "outputs": [
    {
     "data": {
      "text/plain": [
       "False"
      ]
     },
     "execution_count": 12,
     "metadata": {},
     "output_type": "execute_result"
    }
   ],
   "source": [
    "canJump(B)"
   ]
  },
  {
   "cell_type": "code",
   "execution_count": null,
   "metadata": {},
   "outputs": [],
   "source": [
    "'''\n",
    "n = 6\n",
    "for i in range(n-1, -1, -1) : (i = 5, 4, 3, 2, 1, 0):\n",
    "    if nums[i] + i >= n:\n",
    "        n = i\n",
    "return n == 0\n",
    "\n",
    "A = [3, 3, 1, 0, 2, 0, 1]\n",
    "\n",
    "i = 0  : A[0] + 0 = 3\n",
    "i = 1  : A[1] + 1 = 4\n",
    "i = 2  : A[2] + 2 = 3\n",
    "i = 3  : A[3] + 3 = 3\n",
    "i = 4  : A[4] + 4 = 6\n",
    "i = 5  : A[5] + 5 = 5\n",
    "\n",
    "pour i allant de 5 à 0:\n",
    "\n",
    "i = 5 : 5 >= 6 : FALSE\n",
    "i = 4 : 6 >= 6 : TRUE ==> n = i ==> n = 4\n",
    "i = 3 : 3 >= 4 : FALSE\n",
    "i = 2 : 3 >= 4 : FALSE\n",
    "i = 1 : 4 >= 4 : TRUE ==> n = i ==> n = 1\n",
    "i = 0 : 3 >= 1 : TRUE ==> n = i ==> n = 0\n",
    "\n",
    "return n == 0 : TRUE !!! \n",
    "\n",
    "'''"
   ]
  }
 ],
 "metadata": {
  "kernelspec": {
   "display_name": "Python 3 (ipykernel)",
   "language": "python",
   "name": "python3"
  },
  "language_info": {
   "codemirror_mode": {
    "name": "ipython",
    "version": 3
   },
   "file_extension": ".py",
   "mimetype": "text/x-python",
   "name": "python",
   "nbconvert_exporter": "python",
   "pygments_lexer": "ipython3",
   "version": "3.8.13"
  }
 },
 "nbformat": 4,
 "nbformat_minor": 4
}

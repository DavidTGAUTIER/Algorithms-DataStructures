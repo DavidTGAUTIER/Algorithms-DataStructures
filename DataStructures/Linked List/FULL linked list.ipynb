{
 "cells": [
  {
   "cell_type": "code",
   "execution_count": 177,
   "id": "cbb33631",
   "metadata": {},
   "outputs": [],
   "source": [
    "class Node:\n",
    "    def __init__(self, data=None, next=None):\n",
    "        self.data = data\n",
    "        self.next = next\n",
    "        \n",
    "class LinkedList:\n",
    "    def __init__(self):\n",
    "        self.head = None \n",
    "        \n",
    "    def insert_at_beginning(self, data):        \n",
    "        node = Node(data)\n",
    "        node.next = self.head\n",
    "        self.head = node\n",
    "        \n",
    "    def insert_at_end(self, data):\n",
    "        if self.head is None:\n",
    "            self.head = Node(data, None)\n",
    "        itr = self.head\n",
    "        while itr.next:\n",
    "            itr = itr.next\n",
    "        itr.next = Node(data, None)\n",
    "        \n",
    "    def append(self, data):\n",
    "        self.insert_at_end(data)\n",
    "        return\n",
    "        \n",
    "    def _print(self):\n",
    "        if self.head is None:\n",
    "            print(\"Empty LinkedList\")\n",
    "            return\n",
    "        llstr = \"\"\n",
    "        itr = self.head\n",
    "        while itr:\n",
    "            llstr += str(itr.data) + '-->' if itr.next else str(itr.data)\n",
    "            itr = itr.next\n",
    "        if not itr:\n",
    "            llstr += '-->None'\n",
    "        print(llstr)\n",
    "        \n",
    "    def get_length(self):\n",
    "        length = 0\n",
    "        itr = self.head\n",
    "        while itr:\n",
    "            length = length + 1\n",
    "            itr = itr.next\n",
    "        return length\n",
    "    \n",
    "    def insert_values(self, data_list):\n",
    "        self.head = None\n",
    "        for data in data_list:\n",
    "            self.insert_at_beginning(data)\n",
    "            \n",
    "    def insert_after_value(self, data_to_insert, data_after):\n",
    "        if self.head is None:\n",
    "            return\n",
    "        if self.head.data == data_after:\n",
    "            self.head.next = Node(data, data_to_insert)\n",
    "            return\n",
    "        itr = self.head\n",
    "        while itr:\n",
    "            if itr.data == data_after:\n",
    "                itr.next = Node(data_to_insert, itr.next)\n",
    "                break\n",
    "            itr = itr.next\n",
    "            \n",
    "    def remove_by_value(self, data):\n",
    "        if self.head is None:\n",
    "            return\n",
    "        if self.head.data == data:\n",
    "            self.head = self.head.next\n",
    "            return\n",
    "        itr =self.head\n",
    "        while itr.next:\n",
    "            print(\"itr.next :\", itr.next.data)\n",
    "            if itr.next.data == data:\n",
    "                print(itr.next.data)\n",
    "                itr.next = itr.next.next\n",
    "                break\n",
    "            itr = itr.next\n",
    "            \n",
    "    def _itr_next(self):\n",
    "        itr = self.head\n",
    "        while itr.next:\n",
    "            print(f\"itr : {itr.data}, itr.next : {itr.next.data}\\n\")\n",
    "            itr = itr.next\n",
    "            \n",
    "    def insert_at(self, data, index):\n",
    "        if index < 0 or index > self.get_length():\n",
    "            raise Exception(\"Index out of bounds\")\n",
    "            return\n",
    "        if index == 0:\n",
    "            self.insert_at_beginning(data)\n",
    "            return\n",
    "        itr = self.head\n",
    "        count = 0\n",
    "        while itr:\n",
    "            if count == index - 1:\n",
    "                node = Node(data, itr.next)\n",
    "                itr.next = node \n",
    "                break\n",
    "            itr = itr.next\n",
    "            count +=1\n",
    "        \n",
    "    def remove_at(self, index):\n",
    "        if index < 0 or index > self.get_length():\n",
    "            raise Exception(\"Index out of bounds\")\n",
    "            return\n",
    "        if index == 0:\n",
    "            self.head = self.head.next \n",
    "            return\n",
    "        itr = self.head\n",
    "        count = 0\n",
    "        while itr:\n",
    "            if count == index - 1:\n",
    "                itr.next = itr.next.next\n",
    "                break\n",
    "            itr = itr.next\n",
    "            count +=1\n",
    "            \n",
    "    def rotate(self, index):\n",
    "        p = self.head\n",
    "        q = self.head\n",
    "        prev = None\n",
    "        count = 0\n",
    "        while p and count < index:\n",
    "            prev = p\n",
    "            p = p.next\n",
    "            q = q.next\n",
    "            count += 1\n",
    "        p = prev\n",
    "        while q:\n",
    "            prev = q\n",
    "            q = q.next\n",
    "        \n",
    "        q =prev\n",
    "        \n",
    "        q.next = self.head\n",
    "        self.head = p.next\n",
    "        p.next = None\n",
    "        \n",
    "    def reverse(self):\n",
    "        curr = self.head\n",
    "        prev = None\n",
    "        while curr:\n",
    "            next = curr.next\n",
    "            curr.next = prev\n",
    "            prev = curr\n",
    "            curr = next\n",
    "        self.head = prev\n",
    "        \n",
    "    def reverse_recursive(self):\n",
    "        def _reverse_recursive(current, prev):\n",
    "            if not current:\n",
    "                return prev\n",
    "            next = current.next\n",
    "            current.next = prev\n",
    "            prev = current\n",
    "            current = next\n",
    "            return _reverse_recursive(current, prev)\n",
    "        self.head = _reverse_recursive(current = self.head, prev = None)\n",
    "        \n",
    "    def print_helper(self, node, name):\n",
    "        if node is None:\n",
    "            print(name + \": None\")\n",
    "        else:\n",
    "            print(name + \":\" + node.data)\n",
    "            \n",
    "    def printrev(self, temp): \n",
    "        if temp:\n",
    "            self.printrev(temp.next)\n",
    "            print(temp.data, end = ' ')\n",
    "        else:\n",
    "            return\n",
    "        \n",
    "    def swap_nodes(self, node1, node2):\n",
    "        if node1 == node2:\n",
    "            return\n",
    "        curr1 = self.head\n",
    "        prev1 = None\n",
    "        while curr1 and curr1.data != node1:\n",
    "            prev1 = curr1\n",
    "            curr1 = curr1.next\n",
    "        curr2 = self.head\n",
    "        prev2 = None\n",
    "        while curr2 and curr2.data != node2:\n",
    "            prev2 = curr2\n",
    "            curr2 = curr2.next\n",
    "            \n",
    "        if not curr1 or not curr2:\n",
    "            return\n",
    "        if prev1:\n",
    "            prev1.next = curr2\n",
    "        else:\n",
    "            self.head = curr2\n",
    "        if prev2:\n",
    "            prev2.next = curr1\n",
    "        else:\n",
    "            self.head = curr1\n",
    "            \n",
    "       \n",
    "        curr1.next , curr2.next= curr2.next, curr1.next\n",
    "        \n",
    "    def merge_two_sorted_lists(self, ll2):\n",
    "        p = self.head\n",
    "        q = ll2.head\n",
    "        prev = None\n",
    "        if not p:\n",
    "            return q\n",
    "        if not q:\n",
    "            return p\n",
    "        if p and q:\n",
    "            if p.data <= q.data:\n",
    "                s = p\n",
    "                p = s.next\n",
    "            else:\n",
    "                s = q\n",
    "                q = s.next\n",
    "            new_head = s\n",
    "            \n",
    "        while p and q:\n",
    "            if p.data <= q.data:\n",
    "                s.next = p\n",
    "                s = p\n",
    "                p = s.next\n",
    "            else:\n",
    "                s.next = q\n",
    "                s = q\n",
    "                q = s.next\n",
    "        if not p:\n",
    "            s.next = q\n",
    "        if not q:\n",
    "            s.next = p\n",
    "        return new_head\n",
    "    \n",
    "    def remove_duplicates(self):\n",
    "        prev = None\n",
    "        curr = self.head\n",
    "        dic = dict()\n",
    "        while curr:\n",
    "            if curr.data in dic:\n",
    "                prev.next = curr.next \n",
    "                curr = None\n",
    "            else:\n",
    "                dic[curr.data] = 1\n",
    "                prev = curr\n",
    "            curr = prev.next\n",
    "            \n",
    "    "
   ]
  },
  {
   "cell_type": "code",
   "execution_count": 178,
   "id": "3d03cacb",
   "metadata": {},
   "outputs": [
    {
     "name": "stdout",
     "output_type": "stream",
     "text": [
      "a-->b-->c-->d-->None\n",
      "a-->b-->d-->c-->None\n"
     ]
    }
   ],
   "source": [
    "lt = LinkedList()\n",
    "lt.insert_at_beginning('a')\n",
    "lt.insert_at_end('b')\n",
    "lt.insert_at_end('c')\n",
    "lt.insert_at_end('d')\n",
    "lt._print()\n",
    "lt.swap_nodes('c', 'd') \n",
    "lt._print()"
   ]
  },
  {
   "cell_type": "code",
   "execution_count": 179,
   "id": "d1901e3e",
   "metadata": {},
   "outputs": [
    {
     "name": "stdout",
     "output_type": "stream",
     "text": [
      "3\n",
      "a-->b-->1-->c-->None\n"
     ]
    }
   ],
   "source": [
    "ll = LinkedList()\n",
    "ll.insert_at_beginning('a')\n",
    "ll.insert_at_end('b')\n",
    "ll.insert_at_end('c')\n",
    "print(ll.get_length())\n",
    "ll.insert_after_value('1', 'b')\n",
    "ll._print()"
   ]
  },
  {
   "cell_type": "code",
   "execution_count": 180,
   "id": "c56a45ee",
   "metadata": {},
   "outputs": [
    {
     "name": "stdout",
     "output_type": "stream",
     "text": [
      "c-->b-->a-->None\n",
      "b-->a-->c-->None\n",
      "c-->a-->b-->None\n",
      "c-->b-->a-->None\n"
     ]
    }
   ],
   "source": [
    "ll.insert_values(['a', 'b', 'c'])\n",
    "ll._print()\n",
    "ll.rotate(1)\n",
    "ll._print()\n",
    "ll.reverse()\n",
    "ll._print()\n",
    "ll.swap_nodes('a', 'b')\n",
    "ll._print()"
   ]
  },
  {
   "cell_type": "code",
   "execution_count": 181,
   "id": "0961cb8d",
   "metadata": {},
   "outputs": [
    {
     "name": "stdout",
     "output_type": "stream",
     "text": [
      "a-->b-->c-->None\n",
      "b-->c-->a-->None\n"
     ]
    }
   ],
   "source": [
    "l = LinkedList()\n",
    "l.insert_at_beginning('c')\n",
    "l.insert_at_beginning('b')\n",
    "l.insert_at_beginning('a')\n",
    "l._print()\n",
    "l.rotate(1)\n",
    "l._print()"
   ]
  },
  {
   "cell_type": "code",
   "execution_count": 182,
   "id": "7e0fb0fb",
   "metadata": {},
   "outputs": [
    {
     "name": "stdout",
     "output_type": "stream",
     "text": [
      "01-->03-->05-->07-->09-->None\n"
     ]
    }
   ],
   "source": [
    "ll01 = LinkedList()\n",
    "ll01.insert_at_beginning('09')\n",
    "ll01.insert_at_beginning('07')\n",
    "ll01.insert_at_beginning('05')\n",
    "ll01.insert_at_beginning('03')\n",
    "ll01.insert_at_beginning('01')\n",
    "ll01._print()"
   ]
  },
  {
   "cell_type": "code",
   "execution_count": 183,
   "id": "a9069183",
   "metadata": {},
   "outputs": [
    {
     "name": "stdout",
     "output_type": "stream",
     "text": [
      "02-->04-->06-->08-->10-->None\n"
     ]
    }
   ],
   "source": [
    "ll02 = LinkedList()\n",
    "ll02.insert_at_beginning('10')\n",
    "ll02.insert_at_beginning('08')\n",
    "ll02.insert_at_beginning('06')\n",
    "ll02.insert_at_beginning('04')\n",
    "ll02.insert_at_beginning('02')\n",
    "ll02._print()"
   ]
  },
  {
   "cell_type": "code",
   "execution_count": 184,
   "id": "f08f73a1",
   "metadata": {},
   "outputs": [
    {
     "name": "stdout",
     "output_type": "stream",
     "text": [
      "01-->02-->03-->04-->05-->06-->07-->08-->09-->10-->None\n"
     ]
    }
   ],
   "source": [
    "ll01.merge_two_sorted_lists(ll02)\n",
    "ll01._print()"
   ]
  },
  {
   "cell_type": "code",
   "execution_count": 185,
   "id": "a58f1a3d",
   "metadata": {},
   "outputs": [
    {
     "name": "stdout",
     "output_type": "stream",
     "text": [
      "a-->b-->c-->d-->e-->None\n",
      "itr : a, itr.next : b\n",
      "\n",
      "itr : b, itr.next : c\n",
      "\n",
      "itr : c, itr.next : d\n",
      "\n",
      "itr : d, itr.next : e\n",
      "\n"
     ]
    }
   ],
   "source": [
    "ll2 = LinkedList()\n",
    "ll2.insert_at_beginning('e')\n",
    "ll2.insert_at_beginning('d')\n",
    "ll2.insert_at_beginning('c')\n",
    "ll2.insert_at_beginning('b')\n",
    "ll2.insert_at_beginning('a')\n",
    "ll2._print()\n",
    "ll2._itr_next()"
   ]
  },
  {
   "cell_type": "code",
   "execution_count": 186,
   "id": "728b2e92",
   "metadata": {},
   "outputs": [
    {
     "name": "stdout",
     "output_type": "stream",
     "text": [
      "a-->b-->c-->d-->e-->None\n",
      "itr.next : b\n",
      "itr.next : c\n",
      "c\n",
      "a-->b-->d-->e-->None\n"
     ]
    }
   ],
   "source": [
    "ll2._print()\n",
    "ll2.remove_by_value('c')\n",
    "ll2._print()"
   ]
  },
  {
   "cell_type": "code",
   "execution_count": 187,
   "id": "f2972cea",
   "metadata": {},
   "outputs": [],
   "source": [
    "ll2.insert_at('a2', 1)"
   ]
  },
  {
   "cell_type": "code",
   "execution_count": 188,
   "id": "fc9f3378",
   "metadata": {},
   "outputs": [
    {
     "name": "stdout",
     "output_type": "stream",
     "text": [
      "a-->a2-->b-->d-->e-->None\n"
     ]
    }
   ],
   "source": [
    "ll2._print()"
   ]
  },
  {
   "cell_type": "code",
   "execution_count": 189,
   "id": "a92887fd",
   "metadata": {},
   "outputs": [
    {
     "name": "stdout",
     "output_type": "stream",
     "text": [
      "a-->b-->d-->e-->None\n"
     ]
    }
   ],
   "source": [
    "ll2.remove_at(1)\n",
    "ll2._print()"
   ]
  },
  {
   "cell_type": "markdown",
   "id": "2a72fa1e",
   "metadata": {},
   "source": [
    "# DOUBLE LINKED LIST"
   ]
  },
  {
   "cell_type": "code",
   "execution_count": 292,
   "id": "0afd43b7",
   "metadata": {},
   "outputs": [],
   "source": [
    "class Node:\n",
    "    def __init__(self, data=None, next=None, prev=None):\n",
    "        self.data = data\n",
    "        self.next = next\n",
    "        self.prev = prev\n",
    "        \n",
    "class DoubleLinkedList:\n",
    "    def __init__(self):\n",
    "        self.head = None \n",
    "        \n",
    "    def insert_at_beginning(self, data):\n",
    "        if self.head is None:\n",
    "            node = Node(data, self.head, None)\n",
    "            self.head = node\n",
    "            return\n",
    "        else:\n",
    "            node = Node(data, self.head, None)\n",
    "            self.head.prev = node\n",
    "            self.head = node\n",
    "            \n",
    "    def insert_at_end(self, data):\n",
    "        if self.head is None:\n",
    "            self.head = Node(data, None, None)\n",
    "            return\n",
    "        itr = self.head\n",
    "        while itr.next:\n",
    "            itr = itr.next\n",
    "        itr.next = Node(data, None, itr)\n",
    "        \n",
    "    def print_forward(self):\n",
    "        if self.head is None:\n",
    "            print(\"Empty LinkedList\")\n",
    "            return\n",
    "        llstr = \"\"\n",
    "        itr = self.head\n",
    "        while itr:\n",
    "            llstr += str(itr.data) + '-->' \n",
    "            itr = itr.next\n",
    "        if not itr:\n",
    "            llstr += 'None'\n",
    "        print(llstr)\n",
    "        \n",
    "    def print_backward(self):\n",
    "        if self.head is None:\n",
    "            print(\"Empty LinkedList\")\n",
    "            return\n",
    "        last_node = self.get_last_node()\n",
    "        itr = last_node\n",
    "        llstr = \"\"\n",
    "        while itr:\n",
    "            llstr += str(itr.data) + '-->' \n",
    "            itr = itr.prev\n",
    "        print(llstr)\n",
    "        \n",
    "    def get_last_node(self):\n",
    "        itr = self.head\n",
    "        while itr.next:\n",
    "            itr = itr.next\n",
    "        return itr \n",
    "    \n",
    "    def get_length(self):\n",
    "        itr = self.head\n",
    "        count = 0\n",
    "        while itr:\n",
    "            itr = itr.next\n",
    "            count += 1\n",
    "        return count\n",
    "    \n",
    "    def remove_at(self, index):\n",
    "        if index < 0 or index > self.get_length():\n",
    "            raise Exception('invalid index')\n",
    "        if index == 0:\n",
    "            self.head = self.head.next\n",
    "        itr = self.head\n",
    "        count = 0\n",
    "        while itr:\n",
    "            if count == index:\n",
    "                itr.prev.next = itr.next\n",
    "                if itr.next:\n",
    "                    itr.next.prev = itr.prev\n",
    "                break\n",
    "            itr = itr.next\n",
    "            count += 1\n",
    "            \n",
    "    def insert_at(self, data, index):\n",
    "        if index < 0 or index > self.get_length():\n",
    "            raise Exception('invalid index')\n",
    "        if index == 0:\n",
    "            self.insert_at_beginning(data)\n",
    "        itr = self.head\n",
    "        count = 0\n",
    "        while itr:\n",
    "            if count == index -1:\n",
    "                node = Node(data, itr.next, itr)\n",
    "                node.prev.next = node\n",
    "                itr.prev = node\n",
    "                if node.next:\n",
    "                    node.next.prev = node\n",
    "                \n",
    "                break\n",
    "            itr = itr.next\n",
    "            count += 1"
   ]
  },
  {
   "cell_type": "code",
   "execution_count": 301,
   "id": "7eb4ebb2",
   "metadata": {},
   "outputs": [
    {
     "name": "stdout",
     "output_type": "stream",
     "text": [
      "a-->b-->c-->None\n",
      "c-->b-->a-->\n"
     ]
    }
   ],
   "source": [
    "dll = DoubleLinkedList()\n",
    "dll.insert_at_beginning('a')\n",
    "dll.insert_at_end('b')\n",
    "dll.insert_at_end('c')\n",
    "dll.print_forward()\n",
    "dll.print_backward()"
   ]
  },
  {
   "cell_type": "code",
   "execution_count": 302,
   "id": "46789b32",
   "metadata": {},
   "outputs": [
    {
     "data": {
      "text/plain": [
       "3"
      ]
     },
     "execution_count": 302,
     "metadata": {},
     "output_type": "execute_result"
    }
   ],
   "source": [
    "dll.get_length()"
   ]
  },
  {
   "cell_type": "code",
   "execution_count": 303,
   "id": "c7db0bf5",
   "metadata": {},
   "outputs": [],
   "source": [
    "dll.remove_at(1)"
   ]
  },
  {
   "cell_type": "code",
   "execution_count": 304,
   "id": "81b67169",
   "metadata": {},
   "outputs": [
    {
     "name": "stdout",
     "output_type": "stream",
     "text": [
      "a-->c-->None\n"
     ]
    }
   ],
   "source": [
    "dll.print_forward()"
   ]
  },
  {
   "cell_type": "code",
   "execution_count": 305,
   "id": "abd8c660",
   "metadata": {},
   "outputs": [],
   "source": [
    "dll.insert_at('b', 1)"
   ]
  },
  {
   "cell_type": "code",
   "execution_count": 306,
   "id": "6bab11e2",
   "metadata": {},
   "outputs": [
    {
     "name": "stdout",
     "output_type": "stream",
     "text": [
      "a-->b-->c-->None\n"
     ]
    }
   ],
   "source": [
    "dll.print_forward()"
   ]
  },
  {
   "cell_type": "code",
   "execution_count": 307,
   "id": "2e1c6225",
   "metadata": {},
   "outputs": [],
   "source": [
    "dll.insert_at('d', 3)"
   ]
  },
  {
   "cell_type": "code",
   "execution_count": 308,
   "id": "f1934530",
   "metadata": {},
   "outputs": [
    {
     "name": "stdout",
     "output_type": "stream",
     "text": [
      "a-->b-->c-->d-->None\n"
     ]
    }
   ],
   "source": [
    "dll.print_forward()"
   ]
  }
 ],
 "metadata": {
  "kernelspec": {
   "display_name": "Python 3 (ipykernel)",
   "language": "python",
   "name": "python3"
  },
  "language_info": {
   "codemirror_mode": {
    "name": "ipython",
    "version": 3
   },
   "file_extension": ".py",
   "mimetype": "text/x-python",
   "name": "python",
   "nbconvert_exporter": "python",
   "pygments_lexer": "ipython3",
   "version": "3.8.13"
  }
 },
 "nbformat": 4,
 "nbformat_minor": 5
}

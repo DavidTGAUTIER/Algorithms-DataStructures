{
 "cells": [
  {
   "cell_type": "code",
   "execution_count": 33,
   "metadata": {},
   "outputs": [],
   "source": [
    "def letterCombinations(digits):\n",
    "    mapping = {'2': 'abc', '3': 'def', '4': 'ghi', '5': 'jkl', \n",
    "               '6': 'mno', '7': 'pqrs', '8': 'tuv', '9': 'wxyz'}\n",
    "    if len(digits) == 0:\n",
    "        return []\n",
    "    if len(digits) == 1:\n",
    "        return list(mapping[digits[0]])\n",
    "    prev = letterCombinations(digits[:-1])\n",
    "    additional = mapping[digits[-1]]\n",
    "    return [s + c for s in prev for c in additional]"
   ]
  },
  {
   "cell_type": "code",
   "execution_count": 30,
   "metadata": {
    "scrolled": true
   },
   "outputs": [
    {
     "data": {
      "text/plain": [
       "['adg',\n",
       " 'adh',\n",
       " 'adi',\n",
       " 'aeg',\n",
       " 'aeh',\n",
       " 'aei',\n",
       " 'afg',\n",
       " 'afh',\n",
       " 'afi',\n",
       " 'bdg',\n",
       " 'bdh',\n",
       " 'bdi',\n",
       " 'beg',\n",
       " 'beh',\n",
       " 'bei',\n",
       " 'bfg',\n",
       " 'bfh',\n",
       " 'bfi',\n",
       " 'cdg',\n",
       " 'cdh',\n",
       " 'cdi',\n",
       " 'ceg',\n",
       " 'ceh',\n",
       " 'cei',\n",
       " 'cfg',\n",
       " 'cfh',\n",
       " 'cfi']"
      ]
     },
     "execution_count": 30,
     "metadata": {},
     "output_type": "execute_result"
    }
   ],
   "source": [
    "letterCombinations('234')"
   ]
  },
  {
   "cell_type": "code",
   "execution_count": 29,
   "metadata": {
    "scrolled": true
   },
   "outputs": [
    {
     "data": {
      "text/plain": [
       "['adg',\n",
       " 'adh',\n",
       " 'adi',\n",
       " 'aeg',\n",
       " 'aeh',\n",
       " 'aei',\n",
       " 'afg',\n",
       " 'afh',\n",
       " 'afi',\n",
       " 'bdg',\n",
       " 'bdh',\n",
       " 'bdi',\n",
       " 'beg',\n",
       " 'beh',\n",
       " 'bei',\n",
       " 'bfg',\n",
       " 'bfh',\n",
       " 'bfi',\n",
       " 'cdg',\n",
       " 'cdh',\n",
       " 'cdi',\n",
       " 'ceg',\n",
       " 'ceh',\n",
       " 'cei',\n",
       " 'cfg',\n",
       " 'cfh',\n",
       " 'cfi']"
      ]
     },
     "execution_count": 29,
     "metadata": {},
     "output_type": "execute_result"
    }
   ],
   "source": [
    "l =[]\n",
    "for s in ['ad', 'ae', 'af', 'bd', 'be', 'bf', 'cd', 'ce', 'cf']:\n",
    "    for c in 'ghi':\n",
    "        l.append(s+c)\n",
    "l"
   ]
  },
  {
   "cell_type": "code",
   "execution_count": 16,
   "metadata": {},
   "outputs": [
    {
     "name": "stdout",
     "output_type": "stream",
     "text": [
      "abc\n",
      "def\n",
      "['a', 'b', 'c']\n",
      "234\n",
      "jkl\n"
     ]
    }
   ],
   "source": [
    "dic = {'2': 'abc', '3': 'def', '4': 'ghi', '5': 'jkl', \n",
    "               '6': 'mno', '7': 'pqrs', '8': 'tuv', '9': 'wxyz'}\n",
    "digits = '2345'\n",
    "\n",
    "print(dic['2'])\n",
    "print(dic[digits[1]])\n",
    "print(list(dic[digits[0]]))\n",
    "print(digits[:-1])\n",
    "print(dic[digits[-1]])"
   ]
  },
  {
   "cell_type": "code",
   "execution_count": null,
   "metadata": {},
   "outputs": [],
   "source": []
  },
  {
   "cell_type": "code",
   "execution_count": 22,
   "metadata": {},
   "outputs": [],
   "source": [
    "import itertools\n",
    "\n",
    "def letterCombinations(digits):\n",
    "    mapping = {'2': 'abc', '3': 'def', '4': 'ghi', '5': 'jkl', '6': 'mno', '7': 'pqrs', '8': 'tuv', '9': 'wxyz'}\n",
    "    return list(map(''.join, itertools.product(*map(mapping.__getitem__, digits)))) if digits else ''"
   ]
  },
  {
   "cell_type": "code",
   "execution_count": 23,
   "metadata": {},
   "outputs": [
    {
     "data": {
      "text/plain": [
       "['ad', 'ae', 'af', 'bd', 'be', 'bf', 'cd', 'ce', 'cf']"
      ]
     },
     "execution_count": 23,
     "metadata": {},
     "output_type": "execute_result"
    }
   ],
   "source": [
    "letterCombinations('23')"
   ]
  },
  {
   "cell_type": "code",
   "execution_count": 37,
   "metadata": {},
   "outputs": [],
   "source": [
    "def letterCombinations(digits):\n",
    "    \n",
    "    mapping = {'2': 'abc', '3': 'def', '4': 'ghi', '5': 'jkl', '6': 'mno', '7': 'pqrs', '8': 'tuv', '9': 'wxyz'}\n",
    "    mem = {}\n",
    "    \n",
    "    def dp(digits): \n",
    "        \n",
    "        if not digits: \n",
    "            return []\n",
    "        if len(digits) == 1: \n",
    "            return list(mapping[digits[0]])\n",
    "        if digits in mem: \n",
    "            return mem[digits]\n",
    "        \n",
    "        cur_chars = list(mapping[digits[0]])\n",
    "        ans = []\n",
    "        for seq in dp(digits[1:]):\n",
    "            for c in cur_chars:\n",
    "                ans.append(c + seq)\n",
    "                \n",
    "        mem[digits] = ans\n",
    "        return ans\n",
    "    \n",
    "    return dp(digits)"
   ]
  },
  {
   "cell_type": "code",
   "execution_count": 38,
   "metadata": {},
   "outputs": [
    {
     "data": {
      "text/plain": [
       "['ad', 'bd', 'cd', 'ae', 'be', 'ce', 'af', 'bf', 'cf']"
      ]
     },
     "execution_count": 38,
     "metadata": {},
     "output_type": "execute_result"
    }
   ],
   "source": [
    "letterCombinations('23')"
   ]
  },
  {
   "cell_type": "code",
   "execution_count": 41,
   "metadata": {},
   "outputs": [],
   "source": [
    "def letterCombinations(digits):\n",
    "    \n",
    "    mapping = {'2': 'abc', '3': 'def', '4': 'ghi', '5': 'jkl', '6': 'mno', '7': 'pqrs', '8': 'tuv', '9': 'wxyz'}\n",
    "    mem = {}\n",
    "        \n",
    "    if not digits: \n",
    "        return []\n",
    "    if len(digits) == 1: \n",
    "        return list(mapping[digits[0]])\n",
    "    if digits in mem: \n",
    "        return mem[digits]\n",
    "\n",
    "    cur_chars = list(mapping[digits[0]])\n",
    "    ans = []\n",
    "    for seq in letterCombinations(digits[1:]):\n",
    "        for c in cur_chars:\n",
    "            ans.append(c + seq)\n",
    "\n",
    "    mem[digits] = ans\n",
    "    return ans\n",
    "    \n"
   ]
  },
  {
   "cell_type": "code",
   "execution_count": 42,
   "metadata": {},
   "outputs": [
    {
     "data": {
      "text/plain": [
       "['ad', 'bd', 'cd', 'ae', 'be', 'ce', 'af', 'bf', 'cf']"
      ]
     },
     "execution_count": 42,
     "metadata": {},
     "output_type": "execute_result"
    }
   ],
   "source": [
    "letterCombinations('23')"
   ]
  },
  {
   "cell_type": "code",
   "execution_count": null,
   "metadata": {},
   "outputs": [],
   "source": []
  }
 ],
 "metadata": {
  "kernelspec": {
   "display_name": "Python 3 (ipykernel)",
   "language": "python",
   "name": "python3"
  },
  "language_info": {
   "codemirror_mode": {
    "name": "ipython",
    "version": 3
   },
   "file_extension": ".py",
   "mimetype": "text/x-python",
   "name": "python",
   "nbconvert_exporter": "python",
   "pygments_lexer": "ipython3",
   "version": "3.8.13"
  }
 },
 "nbformat": 4,
 "nbformat_minor": 4
}

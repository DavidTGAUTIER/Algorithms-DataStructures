{
 "cells": [
  {
   "cell_type": "code",
   "execution_count": 13,
   "id": "dddf869d",
   "metadata": {},
   "outputs": [],
   "source": [
    "def tower_hopper(towers):\n",
    "    \"\"\"Tower Hopper problem.\n",
    "    Given array of building heights,\n",
    "    find out if he is able to jump outside of array of buildings,\n",
    "    provided he can hop over more than one tower at a time,\n",
    "    and he cannot jump on higher building, than the building he is currently standing on.\n",
    "    \"\"\"\n",
    "    def next_step(towers, current_pos):\n",
    "        \"\"\"Jump to the highest and the most distant tower\"\"\"\n",
    "        max_next_index = current_pos + towers[current_pos]\n",
    "        if max_next_index >= len(towers):\n",
    "            return max_next_index\n",
    "\n",
    "        max_distance = 0\n",
    "        next_index = -1\n",
    "        for i in range(current_pos+1, max_next_index+1):\n",
    "            if (towers[i] + i - current_pos > max_distance and towers[current_pos] >= towers[i]):  # Unable to jump on a tower\n",
    "                next_index = i\n",
    "\n",
    "        return next_index\n",
    "\n",
    "    def helper(towers, start_index):\n",
    "        \"\"\"\n",
    "        :param towers: array of building / tower height\n",
    "        :param start_index: start from building with this index in the array\n",
    "        :return: is he able to jump outside of array\n",
    "        \"\"\"\n",
    "        if start_index >= len(towers):\n",
    "            return True\n",
    "        elif start_index == -1:\n",
    "            # Unable to jump on a tower,\n",
    "            # that is higher than the tower we're currently standing on\n",
    "            return False\n",
    "        else:\n",
    "            return helper(towers, next_step(towers, start_index))\n",
    "\n",
    "    return helper(towers, 0)"
   ]
  },
  {
   "cell_type": "code",
   "execution_count": 14,
   "id": "d1395fe6",
   "metadata": {},
   "outputs": [
    {
     "data": {
      "text/plain": [
       "False"
      ]
     },
     "execution_count": 14,
     "metadata": {},
     "output_type": "execute_result"
    }
   ],
   "source": [
    "nums = [2,3,1,1,4]\n",
    "tower_hopper(nums)    "
   ]
  },
  {
   "cell_type": "code",
   "execution_count": 15,
   "id": "45980824",
   "metadata": {},
   "outputs": [
    {
     "data": {
      "text/plain": [
       "False"
      ]
     },
     "execution_count": 15,
     "metadata": {},
     "output_type": "execute_result"
    }
   ],
   "source": [
    "nums = [3, 0, 2, 0, 1, 1, 1, 3, 0, 0, 5, 1, 2, 3, 4, 0, 1, 2, 0]\n",
    "tower_hopper(nums)  "
   ]
  },
  {
   "cell_type": "code",
   "execution_count": 16,
   "id": "0d74536e",
   "metadata": {},
   "outputs": [
    {
     "data": {
      "text/plain": [
       "False"
      ]
     },
     "execution_count": 16,
     "metadata": {},
     "output_type": "execute_result"
    }
   ],
   "source": [
    "nums = [2, 0, 1, 0, 2, 4, 1, 0, 0, 0, 3, 0, 0] \n",
    "tower_hopper(nums) "
   ]
  },
  {
   "cell_type": "code",
   "execution_count": 17,
   "id": "e5dc9f40",
   "metadata": {},
   "outputs": [
    {
     "data": {
      "text/plain": [
       "False"
      ]
     },
     "execution_count": 17,
     "metadata": {},
     "output_type": "execute_result"
    }
   ],
   "source": [
    "nums = [3, 0, 2, 0, 2, 4, 1, 0, 0, 3, 0, 0]\n",
    "tower_hopper(nums)"
   ]
  },
  {
   "cell_type": "code",
   "execution_count": null,
   "id": "5752c5b9",
   "metadata": {},
   "outputs": [],
   "source": [
    "def can_jump(V, i, j):\n",
    "    return V[i] >= j - i\n",
    "\n",
    "# EN: Tests if the tower is hoppable\n",
    "\n",
    "\n",
    "def can_hop(V):\n",
    "\n",
    "    i = len(V)\n",
    "    while i != 0:\n",
    "        j = i - 1\n",
    "        while j >= 0 and (not can_jump(V, j, i)):\n",
    "            j = j-1\n",
    "        if j < 0:\n",
    "            return False\n",
    "        i = j\n",
    "    return True"
   ]
  },
  {
   "cell_type": "code",
   "execution_count": 19,
   "id": "45d056b7",
   "metadata": {},
   "outputs": [
    {
     "name": "stdout",
     "output_type": "stream",
     "text": [
      "True\n"
     ]
    }
   ],
   "source": [
    "nums = [2,3,1,1,4]\n",
    "v = list(map(lambda x: int(x), nums))\n",
    "print(can_hop(v))"
   ]
  },
  {
   "cell_type": "code",
   "execution_count": null,
   "id": "ab3129bf",
   "metadata": {},
   "outputs": [],
   "source": []
  }
 ],
 "metadata": {
  "kernelspec": {
   "display_name": "Python 3",
   "language": "python",
   "name": "python3"
  },
  "language_info": {
   "codemirror_mode": {
    "name": "ipython",
    "version": 3
   },
   "file_extension": ".py",
   "mimetype": "text/x-python",
   "name": "python",
   "nbconvert_exporter": "python",
   "pygments_lexer": "ipython3",
   "version": "3.8.8"
  }
 },
 "nbformat": 4,
 "nbformat_minor": 5
}
